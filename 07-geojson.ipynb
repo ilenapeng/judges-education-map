{
 "cells": [
  {
   "cell_type": "code",
   "execution_count": 1,
   "id": "aeb8e83f",
   "metadata": {},
   "outputs": [
    {
     "name": "stderr",
     "output_type": "stream",
     "text": [
      "/Users/ilenapeng/.pyenv/versions/3.9.7/lib/python3.9/site-packages/pandas/compat/__init__.py:124: UserWarning: Could not import the lzma module. Your installed Python is incomplete. Attempting to use lzma compression will result in a RuntimeError.\n",
      "  warnings.warn(msg)\n"
     ]
    }
   ],
   "source": [
    "import pandas as pd\n",
    "import numpy as np\n",
    "import json"
   ]
  },
  {
   "cell_type": "code",
   "execution_count": 2,
   "id": "25503b9f",
   "metadata": {},
   "outputs": [
    {
     "data": {
      "text/html": [
       "<div>\n",
       "<style scoped>\n",
       "    .dataframe tbody tr th:only-of-type {\n",
       "        vertical-align: middle;\n",
       "    }\n",
       "\n",
       "    .dataframe tbody tr th {\n",
       "        vertical-align: top;\n",
       "    }\n",
       "\n",
       "    .dataframe thead th {\n",
       "        text-align: right;\n",
       "    }\n",
       "</style>\n",
       "<table border=\"1\" class=\"dataframe\">\n",
       "  <thead>\n",
       "    <tr style=\"text-align: right;\">\n",
       "      <th></th>\n",
       "      <th>school</th>\n",
       "      <th>count</th>\n",
       "      <th>circuit</th>\n",
       "      <th>address</th>\n",
       "      <th>lat</th>\n",
       "      <th>lng</th>\n",
       "    </tr>\n",
       "  </thead>\n",
       "  <tbody>\n",
       "    <tr>\n",
       "      <th>0</th>\n",
       "      <td>Harvard University</td>\n",
       "      <td>24</td>\n",
       "      <td>District of Columbia</td>\n",
       "      <td>Massachusetts Hall, Cambridge, MA 02138</td>\n",
       "      <td>42.37717</td>\n",
       "      <td>-71.13507</td>\n",
       "    </tr>\n",
       "    <tr>\n",
       "      <th>1</th>\n",
       "      <td>Yale University</td>\n",
       "      <td>16</td>\n",
       "      <td>District of Columbia</td>\n",
       "      <td>105 Wall Street, New Haven, CT 06520</td>\n",
       "      <td>41.31115</td>\n",
       "      <td>-72.92677</td>\n",
       "    </tr>\n",
       "    <tr>\n",
       "      <th>2</th>\n",
       "      <td>Stanford University</td>\n",
       "      <td>14</td>\n",
       "      <td>District of Columbia</td>\n",
       "      <td>450 Serra Mall, Stanford, CA 94305-2061</td>\n",
       "      <td>37.42765</td>\n",
       "      <td>-122.17006</td>\n",
       "    </tr>\n",
       "    <tr>\n",
       "      <th>3</th>\n",
       "      <td>Duke University</td>\n",
       "      <td>11</td>\n",
       "      <td>District of Columbia</td>\n",
       "      <td>207 Allen Bldg, Durham, NC 27708</td>\n",
       "      <td>35.99981</td>\n",
       "      <td>-78.94058</td>\n",
       "    </tr>\n",
       "    <tr>\n",
       "      <th>4</th>\n",
       "      <td>University of Virginia</td>\n",
       "      <td>9</td>\n",
       "      <td>District of Columbia</td>\n",
       "      <td>1827 University Avenue, Charlottesville, VA 22904</td>\n",
       "      <td>38.03662</td>\n",
       "      <td>-78.50258</td>\n",
       "    </tr>\n",
       "  </tbody>\n",
       "</table>\n",
       "</div>"
      ],
      "text/plain": [
       "                   school  count               circuit  \\\n",
       "0      Harvard University     24  District of Columbia   \n",
       "1         Yale University     16  District of Columbia   \n",
       "2     Stanford University     14  District of Columbia   \n",
       "3         Duke University     11  District of Columbia   \n",
       "4  University of Virginia      9  District of Columbia   \n",
       "\n",
       "                                             address       lat        lng  \n",
       "0            Massachusetts Hall, Cambridge, MA 02138  42.37717  -71.13507  \n",
       "1               105 Wall Street, New Haven, CT 06520  41.31115  -72.92677  \n",
       "2            450 Serra Mall, Stanford, CA 94305-2061  37.42765 -122.17006  \n",
       "3                   207 Allen Bldg, Durham, NC 27708  35.99981  -78.94058  \n",
       "4  1827 University Avenue, Charlottesville, VA 22904  38.03662  -78.50258  "
      ]
     },
     "execution_count": 2,
     "metadata": {},
     "output_type": "execute_result"
    }
   ],
   "source": [
    "df = pd.read_csv('06-geocode.csv')\n",
    "df.head()"
   ]
  },
  {
   "cell_type": "markdown",
   "id": "ab01a6d0",
   "metadata": {},
   "source": [
    "### Create properties for geojson"
   ]
  },
  {
   "cell_type": "code",
   "execution_count": 3,
   "id": "b5d3c68d",
   "metadata": {},
   "outputs": [],
   "source": [
    "return_to_home = \"\"\"<div><a id=\"myLink\" title=\"Click to return home\"href=\"#\" onclick=\"backHome();return false;\">Back to home</a></div>\"\"\""
   ]
  },
  {
   "cell_type": "code",
   "execution_count": 4,
   "id": "588df8b2",
   "metadata": {},
   "outputs": [],
   "source": [
    "# Create 'article' -- popup text\n",
    "# Single judge\n",
    "df.loc[df['count']==1, 'article'] = \"<h1>\" + df['school'] + \"</h1><p>There is \" + df['count'].map(str) + \" current or former judge in the \" + df.circuit + \" circuit that has a degree from \" + df.school + \".</p>\" + return_to_home\n",
    "\n",
    "# More than one judge\n",
    "df.loc[df['count']>1, 'article'] = \"<h1>\" + df['school'] + \"</h1>There are \" + df['count'].map(str) + \" current and former judges in the \" + df.circuit + \" circuit that have degrees from \" + df.school + \".</p>\" + return_to_home"
   ]
  },
  {
   "cell_type": "code",
   "execution_count": 5,
   "id": "52ce467c",
   "metadata": {},
   "outputs": [],
   "source": [
    "# Create 'headline' -- rollover text\n",
    "df.loc[df['count']==1, 'headline'] = \"<p>\" + df.circuit + \" circuit</p><p>\" + df.school + \", 1 judge</p>\"\n",
    "\n",
    "df.loc[df['count']>1, 'headline'] = \"<p>\" + df.circuit + \" circuit</p><p>\" + df.school + \", \" + df['count'].map(str) + \" judges</p>\""
   ]
  },
  {
   "cell_type": "code",
   "execution_count": 6,
   "id": "1410c7e2",
   "metadata": {},
   "outputs": [],
   "source": [
    "# Create name, group_name\n",
    "# name: rename 'school'\n",
    "# group_name: rename 'circuit'\n",
    "df = df.rename(columns={'school': 'name', 'circuit': 'group_name'})\n",
    "\n",
    "# radius: is count, but with some map\n",
    "# df['count'] = float(df['count'])\n",
    "df['radius'] = np.sqrt((df['count']*20)/3.14)"
   ]
  },
  {
   "cell_type": "code",
   "execution_count": 7,
   "id": "80079e5f",
   "metadata": {},
   "outputs": [],
   "source": [
    "# Create 'group_id'\n",
    "def create_group_id(row):\n",
    "    if row['group_name'] == 'First':\n",
    "      return 1\n",
    "    if row['group_name'] == 'Second':\n",
    "      return 2\n",
    "    if row['group_name'] == 'Third':\n",
    "      return 3\n",
    "    if row['group_name']  == 'Fourth':\n",
    "      return 4\n",
    "    if row['group_name'] == 'Fifth':\n",
    "      return 5\n",
    "    if row['group_name'] == 'Sixth':\n",
    "      return 6\n",
    "    if row['group_name'] == 'Seventh':\n",
    "      return 7\n",
    "    if row['group_name'] == 'Eighth':\n",
    "      return 8\n",
    "    if row['group_name'] == 'Ninth':\n",
    "      return 9\n",
    "    if row['group_name'] == 'Tenth':\n",
    "      return 10\n",
    "    if row['group_name'] == 'Eleventh':\n",
    "      return 11\n",
    "    if row['group_name'] == 'District of Columbia':\n",
    "      return 12\n",
    "    if row['group_name'] == 'Federal':\n",
    "      return 13\n",
    "\n",
    "df['group_id'] = df.apply (lambda row: create_group_id(row), axis=1)"
   ]
  },
  {
   "cell_type": "code",
   "execution_count": 8,
   "id": "b28e6d94",
   "metadata": {},
   "outputs": [],
   "source": [
    "# color: use 'group_name' ('circuit') to create individual colors\n",
    "def create_color(row):\n",
    "    if row['group_name'] == 'First':\n",
    "      return '#F94144'\n",
    "    if row['group_name'] == 'Second':\n",
    "      return '#F3722C'\n",
    "    if row['group_name'] == 'Third':\n",
    "      return '#F8961E'\n",
    "    if row['group_name']  == 'Fourth':\n",
    "      return '#F9844A'\n",
    "    if row['group_name'] == 'Fifth':\n",
    "      return '#F9C74F'\n",
    "    if row['group_name'] == 'Sixth':\n",
    "      return '#483A58'\n",
    "    if row['group_name'] == 'Seventh':\n",
    "      return '#90BE6D'\n",
    "    if row['group_name'] == 'Eighth':\n",
    "      return '#43AA8B'\n",
    "    if row['group_name'] == 'Ninth':\n",
    "      return '#4D908E'\n",
    "    if row['group_name'] == 'Tenth':\n",
    "      return '#577590'\n",
    "    if row['group_name'] == 'Eleventh':\n",
    "      return '#277DA1'\n",
    "    if row['group_name'] == 'District of Columbia':\n",
    "      return '#6D597A'\n",
    "    if row['group_name'] == 'Federal':\n",
    "      return '#B56576'\n",
    "\n",
    "df['color'] = df.apply (lambda row: create_color(row), axis=1)"
   ]
  },
  {
   "cell_type": "markdown",
   "id": "6d805d30",
   "metadata": {},
   "source": [
    "### Create geojson"
   ]
  },
  {
   "cell_type": "code",
   "execution_count": 9,
   "id": "85c9cd63",
   "metadata": {},
   "outputs": [],
   "source": [
    "# From: https://notebook.community/captainsafia/nteract/applications/desktop/example-notebooks/pandas-to-geojson\n",
    "def df_to_geojson(df, properties, lat='lat', lon='lng'):\n",
    "    # create a new python dict to contain our geojson data, using geojson format\n",
    "    geojson = {'type':'FeatureCollection', 'features':[]}\n",
    "\n",
    "    # loop through each row in the dataframe and convert each row to geojson format\n",
    "    for _, row in df.iterrows():\n",
    "        # create a feature template to fill in\n",
    "        feature = {'type':'Feature',\n",
    "                   'properties':{},\n",
    "                   'geometry':{'type':'Point',\n",
    "                               'coordinates':[]}}\n",
    "\n",
    "        # fill in the coordinates\n",
    "        feature['geometry']['coordinates'] = [row[lon],row[lat]]\n",
    "\n",
    "        # for each column, get the value and add it as a new feature property\n",
    "        for prop in properties:\n",
    "            feature['properties'][prop] = row[prop]\n",
    "        \n",
    "        # add this feature (aka, converted dataframe row) to the list of features inside our dict\n",
    "        geojson['features'].append(feature)\n",
    "    \n",
    "    return geojson\n",
    "\n",
    "columns = ['headline', 'count', 'group_name', 'lat', 'lng', 'article', 'name', 'radius', 'group_id', 'color']\n",
    "geojson = df_to_geojson(df, columns)"
   ]
  },
  {
   "cell_type": "code",
   "execution_count": 10,
   "id": "2bcb71a4",
   "metadata": {},
   "outputs": [],
   "source": [
    "with open('07-geojson.js', 'w') as outfile:\n",
    "    outfile.write(\"var infoData = \")\n",
    "#geojson output\n",
    "with open('07-geojson.js', 'a') as outfile:\n",
    "    json.dump(geojson, outfile)"
   ]
  }
 ],
 "metadata": {
  "kernelspec": {
   "display_name": "Python 3 (ipykernel)",
   "language": "python",
   "name": "python3"
  },
  "language_info": {
   "codemirror_mode": {
    "name": "ipython",
    "version": 3
   },
   "file_extension": ".py",
   "mimetype": "text/x-python",
   "name": "python",
   "nbconvert_exporter": "python",
   "pygments_lexer": "ipython3",
   "version": "3.9.7"
  }
 },
 "nbformat": 4,
 "nbformat_minor": 5
}
