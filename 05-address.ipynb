{
 "cells": [
  {
   "cell_type": "markdown",
   "id": "c3a09126",
   "metadata": {},
   "source": [
    "## Get addresses for each school"
   ]
  },
  {
   "cell_type": "code",
   "execution_count": 1,
   "id": "781af848",
   "metadata": {},
   "outputs": [
    {
     "name": "stderr",
     "output_type": "stream",
     "text": [
      "/Users/ilenapeng/.pyenv/versions/3.9.7/lib/python3.9/site-packages/pandas/compat/__init__.py:124: UserWarning: Could not import the lzma module. Your installed Python is incomplete. Attempting to use lzma compression will result in a RuntimeError.\n",
      "  warnings.warn(msg)\n"
     ]
    }
   ],
   "source": [
    "import pandas as pd\n",
    "import re"
   ]
  },
  {
   "cell_type": "code",
   "execution_count": 2,
   "id": "f9d9410b",
   "metadata": {},
   "outputs": [],
   "source": [
    "# Data downloaded from https://ope.ed.gov/dapip/#/download-data-files\n",
    "address_df = pd.read_csv('InstitutionCampus.csv')\n",
    "df = pd.read_csv('04-format.csv')"
   ]
  },
  {
   "cell_type": "code",
   "execution_count": 3,
   "id": "bae2b327",
   "metadata": {},
   "outputs": [],
   "source": [
    "address_df_filter = address_df[address_df.LocationType == 'Institution']"
   ]
  },
  {
   "cell_type": "code",
   "execution_count": 4,
   "id": "d3b23028",
   "metadata": {},
   "outputs": [
    {
     "data": {
      "text/plain": [
       "True     442\n",
       "False    149\n",
       "Name: school, dtype: int64"
      ]
     },
     "execution_count": 4,
     "metadata": {},
     "output_type": "execute_result"
    }
   ],
   "source": [
    "# Test matches for merge\n",
    "df['school'].isin(address_df_filter['LocationName']).value_counts()"
   ]
  },
  {
   "cell_type": "code",
   "execution_count": 5,
   "id": "4b8a479b",
   "metadata": {},
   "outputs": [],
   "source": [
    "address_df_filter = address_df_filter.replace(\"University of Texas at Austin\", \"University of Texas\")\n",
    "address_df_filter = address_df_filter.replace(\"University of Nebraska - Kearney\", \"University of Nebraska\")\n",
    "address_df_filter = address_df_filter.replace(\"University of South Carolina - Columbia\", \"University of South Carolina\")\n",
    "address_df_filter = address_df_filter.replace(\"Florida Agricultural and Mechanical University\", \"Florida A&M University\")\n",
    "address_df_filter = address_df_filter.replace(\"Brooklyn College of the City University of New York\", \"Brooklyn College\")\n",
    "address_df_filter = address_df_filter.replace(\"Columbia University in the City of New York\", \"Columbia University\")\n",
    "address_df_filter = address_df_filter.replace(\"University of Michigan - Ann Arbor\", \"University of Michigan\")\n",
    "address_df_filter = address_df_filter.replace(\"University of California - Los Angeles\", \"University of California, Los Angeles\")\n",
    "address_df_filter = address_df_filter.replace(\"George Washington University, The\", \"George Washington University\")\n",
    "address_df_filter = address_df_filter.replace(\"Indiana University Bloomington\", \"Indiana University\")\n",
    "address_df_filter = address_df_filter.replace(\"The University of Alabama\", \"University of Alabama\")\n",
    "address_df_filter = address_df_filter.replace(\"SUNY at Buffalo\", \"State University of New York at Buffalo\")\n",
    "address_df_filter = address_df_filter.replace(\"University of Maryland - College Park\", \"University of Maryland\")\n",
    "address_df_filter = address_df_filter.replace(\"University of North Carolina at Chapel Hill\", \"University of North Carolina\")\n",
    "address_df_filter = address_df_filter.replace(\"Louisiana State University and A&M College\", \"Louisiana State University\")\n",
    "address_df_filter = address_df_filter.replace(\"University of Minnesota - Twin Cities\", \"University of Minnesota\")\n",
    "address_df_filter = address_df_filter.replace(\"University of Wisconsin Colleges\", \"University of Wisconsin\")\n",
    "address_df_filter = address_df_filter.replace(\"University of Arkansas at Little Rock\", \"University of Arkansas\")\n",
    "address_df_filter = address_df_filter.replace(\"University of Missouri - Columbia\", \"University of Missouri\")\n",
    "address_df_filter = address_df_filter.replace(\"Rutgers, The State University of New Jersey\", \"Rutgers University\")\n",
    "address_df_filter = address_df_filter.replace(\"University of Illinois Urbana-Champaign\", \"University of Illinois\")\n",
    "address_df_filter = address_df_filter.replace(\"Montana State University - Bozeman\", \"Montana State University\")\n",
    "address_df_filter = address_df_filter.replace(\"University of Pittsburgh - Main Campus\", \"University of Pittsburgh\")\n",
    "address_df_filter = address_df_filter.replace(\"SUNY at Albany\", \"State University of New York at Albany\")\n",
    "address_df_filter = address_df_filter.replace(\"The University of Montana\", \"University of Montana\")\n",
    "address_df_filter = address_df_filter.replace(\"University of Nevada - Reno\", \"University of Nevada, Reno\")\n",
    "address_df_filter = address_df_filter.replace(\"Wittenberg University\", \"Wittenberg College\")\n",
    "address_df_filter = address_df_filter.replace(\"Washburn University of Topeka\", \"Washburn University\")\n",
    "address_df_filter = address_df_filter.replace(\"University of California Hastings College of Law\", \"University of California, Hastings College of the Law\")\n",
    "address_df_filter = address_df_filter.replace(\"Washington University in St Louis\", \"Washington University in St. Louis\")\n",
    "address_df_filter = address_df_filter.replace(\"Queens College of the City University of New York\", \"Queens College, City University of New York\")\n",
    "address_df_filter = address_df_filter.replace(\"Auburn University Main Campus\", \"Auburn University\")\n",
    "address_df_filter = address_df_filter.replace(\"The University of Tennessee - Knoxville\", \"University of Tennessee\")\n",
    "address_df_filter = address_df_filter.replace(\"Washington & Jefferson College\", \"Washington and Jefferson College\")\n",
    "address_df_filter = address_df_filter.replace(\"California State University - Sacramento\", \"California State University, Sacramento\")\n",
    "address_df_filter = address_df_filter.replace(\"SUNY College at Cortland\", \"State University of New York at Cortland\")\n",
    "address_df_filter = address_df_filter.replace(\"FLS International St. Peter's University\", \"St. Peter's College\")\n",
    "address_df_filter = address_df_filter.replace(\"City College of New York of the City University of New York, The\", \"City College of New York\")\n",
    "address_df_filter = address_df_filter.replace(\"Saint Louis University\", \"St. Louis University\")\n",
    "address_df_filter = address_df_filter.replace(\"Saint Joseph's University\", \"St. Joseph's University\")\n",
    "address_df_filter = address_df_filter.replace(\"University of Massachusetts Amherst\", \"University of Massachusetts\")\n",
    "address_df_filter = address_df_filter.replace(\"Saint Josephs College\", \"St. Joseph's College\")\n",
    "address_df_filter = address_df_filter.replace(\"North Carolina A & T State University\", \"North Carolina A&T State University\")\n",
    "address_df_filter = address_df_filter.replace(\"Southern Illinois University Carbondale\", \"Southern Illinois University\")\n",
    "address_df_filter = address_df_filter.replace(\"University of Hawaii at Manoa\", \"University of Hawaii\")\n",
    "address_df_filter = address_df_filter.replace(\"Birmingham Southern College\", \"Birmingham-Southern College\")\n",
    "address_df_filter = address_df_filter.replace(\"University of Jamestown\", \"Jamestown College\")\n",
    "address_df_filter = address_df_filter.replace(\"The University of the South\", \"University of the South\")\n",
    "address_df_filter = address_df_filter.replace(\"University of Colorado at Boulder\", \"University of Colorado\")\n",
    "address_df_filter = address_df_filter.replace(\"Eastern Kentucky University\", \"Central University (now Eastern Kentucky University)\")"
   ]
  },
  {
   "cell_type": "code",
   "execution_count": 6,
   "id": "0c360a0a",
   "metadata": {},
   "outputs": [],
   "source": [
    "# Replace names that appear as duplicates in \"LocationName\"\n",
    "address_df_filter.loc[address_df_filter.DapipId == 140146, \"LocationName\"] = \"Lincoln University, Pennsylvania\"\n",
    "address_df_filter.loc[address_df_filter.DapipId == 125569, \"LocationName\"] = \"Lincoln University, Missouri\"\n",
    "address_df_filter.loc[address_df_filter.DapipId == 126401, \"LocationName\"] = \"Westminster College, Fulton, Missouri\"\n",
    "address_df_filter.loc[address_df_filter.DapipId == 141732, \"LocationName\"] = \"Westminster College, New Wilmington, Pennsylvania\""
   ]
  },
  {
   "cell_type": "code",
   "execution_count": 7,
   "id": "f0e421ba",
   "metadata": {},
   "outputs": [
    {
     "data": {
      "text/plain": [
       "True     562\n",
       "False     29\n",
       "Name: school, dtype: int64"
      ]
     },
     "execution_count": 7,
     "metadata": {},
     "output_type": "execute_result"
    }
   ],
   "source": [
    "# Test matches for merge\n",
    "df['school'].isin(address_df_filter['LocationName']).value_counts()"
   ]
  },
  {
   "cell_type": "code",
   "execution_count": 8,
   "id": "a9e40574",
   "metadata": {},
   "outputs": [],
   "source": [
    "# Remove duplicates for the merge\n",
    "address_df_nodups = address_df_filter.drop_duplicates(subset=['LocationName'])"
   ]
  },
  {
   "cell_type": "code",
   "execution_count": 9,
   "id": "ec3b9ba9",
   "metadata": {},
   "outputs": [
    {
     "name": "stdout",
     "output_type": "stream",
     "text": [
      "591\n",
      "591\n"
     ]
    }
   ],
   "source": [
    "df_merge = pd.merge(df, address_df_nodups, left_on='school', right_on='LocationName', how=\"left\")\n",
    "\n",
    "# Check length\n",
    "print(len(df))\n",
    "print(len(df_merge))"
   ]
  },
  {
   "cell_type": "code",
   "execution_count": 10,
   "id": "e1fbf542",
   "metadata": {},
   "outputs": [
    {
     "data": {
      "text/plain": [
       "array(['University of Oxford', 'Heidelberg University, Germany',\n",
       "       'Mitchell Hamline School of Law', 'Radcliffe College',\n",
       "       'Benton College of Law',\n",
       "       \"St. Joseph's College, Jensen Beach, Florida\",\n",
       "       'University of Cambridge',\n",
       "       \"Judge Advocate General's Legal Center and School\",\n",
       "       'University of Puerto Rico School of Public Administration',\n",
       "       'Bear Valley Bible Institute', \"St. Augustine's College\",\n",
       "       'Tacoma Law School', 'European University Institute',\n",
       "       'Central YMCA College', 'Chicago-Kent College of Law',\n",
       "       'St. Joseph’s College, Rensselaer, Indiana',\n",
       "       'Douglas University, Chicago, Illinois',\n",
       "       'Crozer Theological Seminary'], dtype=object)"
      ]
     },
     "execution_count": 10,
     "metadata": {},
     "output_type": "execute_result"
    }
   ],
   "source": [
    "# Look at the places with no match\n",
    "df_NOT_merge = pd.merge(df, address_df_filter, left_on='school', right_on='LocationName', how=\"outer\",indicator=True)\n",
    "df_NOT_merge[df_NOT_merge._merge == 'left_only'].school.unique()"
   ]
  },
  {
   "cell_type": "code",
   "execution_count": 11,
   "id": "45bb21b7",
   "metadata": {},
   "outputs": [],
   "source": [
    "# Custom replace remaining addresses\n",
    "# Leave schools outside of the continental US blank\n",
    "\n",
    "# For schools that have closed where addresses couldn't be found, I put their address as the City Hall\n",
    "# St. Joseph's, Florida, St. Augustine's & Benton College of Law\n",
    "\n",
    "# Radcliffe College > is now Radcliffe Yard in Harvard\n",
    "df_merge.loc[df_merge.school == \"Radcliffe College\", \"Address\"] = \"52 Linnaean St, Cambridge, MA 02138\"\n",
    "\n",
    "df_merge.loc[df_merge.school == \"Mitchell Hamline School of Law\", \"Address\"] = \"875 Summit Ave, St Paul, MN 55105\"\n",
    "\n",
    "# Crozer Theological Seminary has no address -- is closed now\n",
    "# Said it's located at W 21st St & Upland Ave so I picked a building near there\n",
    "df_merge.loc[df_merge.school == \"Crozer Theological Seminary\", \"Address\"] = \"1100 Upland Ave, Chester, PA 19013\"\n",
    "\n",
    "df_merge.loc[df_merge.school == \"Bear Valley Bible Institute\", \"Address\"] = \"2707 S. Lamar Street Denver, Colorado 80227\"\n",
    "\n",
    "# St. Augustine's has no address -- is closed now\n",
    "# https://beniciahistoricalmuseum.org/project/st-augustines-college-c-1878/\n",
    "df_merge.loc[df_merge.school == \"St. Augustine's College\", \"Address\"] = \"230E E L St, Benicia, CA 94510\"\n",
    "\n",
    "df_merge.loc[df_merge.school == \"Chicago-Kent College of Law\", \"Address\"] = \"565 W Adams St, Chicago, IL 60661\"\n",
    "\n",
    "df_merge.loc[df_merge.school == \"Judge Advocate General's Legal Center and School\", \"Address\"] = \"600 Massie Rd, Charlottesville, VA 22903\"\n",
    "\n",
    "# St. Joseph's College, Florida is also closed\n",
    "# https://en.wikipedia.org/wiki/Saint_Joseph_College_of_Florida\n",
    "df_merge.loc[df_merge.school == \"St. Joseph's College, Jensen Beach, Florida\", \"Address\"] = \"1912 NE Jensen Beach Blvd. Jensen Beach, Florida 34957\"\n",
    "\n",
    "# Douglas University\n",
    "df_merge.loc[df_merge.school == \"St. Joseph’s College, Rensselaer, Indiana\", \"Address\"] = \"121 N LaSalle St, Chicago, IL 60602\"\n",
    "\n",
    "# St. Joseph’s College, Rensselaer, Indiana is also closed\n",
    "# https://www.bloomberg.com/profile/company/1720376Z:US\n",
    "df_merge.loc[df_merge.school == \"Douglas University, Chicago, Illinois\", \"Address\"] = \"1498 South College Avenue PO Box 870 Rensselaer, IN 47978\"\n",
    "\n",
    "# Benton College of Law is also closed\n",
    "# https://lawandhistoryreview.org/article/the-original-failing-law-school-misappropriation-cronyism-and-fisticuffs-at-the-benton-college-of-law/#_ftn4\n",
    "df_merge.loc[df_merge.school == \"Benton College of Law\", \"Address\"] = \"1200 Market St, St. Louis, MO 63103\"\n",
    "\n",
    "# Tacoma Law School, according to Wikipedia, is now Seattle University's School of Law https://en.wikipedia.org/wiki/Homer_Bone\n",
    "df_merge.loc[df_merge.school == \"Tacoma Law School\", \"Address\"] = \"901 12th Ave, Seattle, WA 98122\"\n",
    "\n",
    "# Central YMCA is also closed\n",
    "# https://collections.carli.illinois.edu/digital/collection/uic_bru/id/1727/\n",
    "df_merge.loc[df_merge.school == \"Central YMCA College\", \"Address\"] = \"211 W Wacker DrChicago, IL 60606\""
   ]
  },
  {
   "cell_type": "code",
   "execution_count": 12,
   "id": "93186d3c",
   "metadata": {},
   "outputs": [],
   "source": [
    "# Replace addresses that are PO boxes\n",
    "# University of Washington\n",
    "df_merge.loc[df_merge.school == \"University of Washington\", \"Address\"] = \"1400 NE Campus Parkway, Seattle, WA, 98195\"\n",
    "\n",
    "# University of Cincinnati\n",
    "df_merge.loc[df_merge.school == \"University of Cincinnati\", \"Address\"] = \"2600 Clifton Ave, Cincinnati, OH 45221\"\n",
    "\n",
    "# Montana State University\n",
    "df_merge.loc[df_merge.school == \"Montana State University\", \"Address\"] = \"Culbertson Hall, 100, Bozeman, MT 59717\"\n",
    "\n",
    "# College of William and Mary\n",
    "df_merge.loc[df_merge.school == \"College of William and Mary\", \"Address\"] = \"Sadler Center, 200 Stadium Dr, Williamsburg, VA 23185\"\n",
    "\n",
    "# Replace West Virginia State, whose address (Rte 25, Institute, WV 25112-1000) geocodes wrong\n",
    "df_merge.loc[df_merge.school == \"West Virginia State University\", \"Address\"] = \"200 Erickson Alumni Ctr, Institute, WV 25112\""
   ]
  },
  {
   "cell_type": "code",
   "execution_count": 13,
   "id": "5cb42bee",
   "metadata": {},
   "outputs": [],
   "source": [
    "# Remove extra columns\n",
    "df_merge = df_merge[['school','count', 'circuit', 'Address']]\n",
    "df_merge.columns = df_merge.columns.str.lower()"
   ]
  },
  {
   "cell_type": "code",
   "execution_count": 14,
   "id": "6f191fba",
   "metadata": {},
   "outputs": [
    {
     "data": {
      "text/html": [
       "<div>\n",
       "<style scoped>\n",
       "    .dataframe tbody tr th:only-of-type {\n",
       "        vertical-align: middle;\n",
       "    }\n",
       "\n",
       "    .dataframe tbody tr th {\n",
       "        vertical-align: top;\n",
       "    }\n",
       "\n",
       "    .dataframe thead th {\n",
       "        text-align: right;\n",
       "    }\n",
       "</style>\n",
       "<table border=\"1\" class=\"dataframe\">\n",
       "  <thead>\n",
       "    <tr style=\"text-align: right;\">\n",
       "      <th></th>\n",
       "      <th>school</th>\n",
       "      <th>count</th>\n",
       "      <th>circuit</th>\n",
       "      <th>address</th>\n",
       "    </tr>\n",
       "  </thead>\n",
       "  <tbody>\n",
       "    <tr>\n",
       "      <th>17</th>\n",
       "      <td>University of Oxford</td>\n",
       "      <td>2</td>\n",
       "      <td>District of Columbia</td>\n",
       "      <td>NaN</td>\n",
       "    </tr>\n",
       "    <tr>\n",
       "      <th>29</th>\n",
       "      <td>Heidelberg University, Germany</td>\n",
       "      <td>1</td>\n",
       "      <td>District of Columbia</td>\n",
       "      <td>NaN</td>\n",
       "    </tr>\n",
       "    <tr>\n",
       "      <th>72</th>\n",
       "      <td>Heidelberg University, Germany</td>\n",
       "      <td>1</td>\n",
       "      <td>Eighth</td>\n",
       "      <td>NaN</td>\n",
       "    </tr>\n",
       "    <tr>\n",
       "      <th>140</th>\n",
       "      <td>University of Cambridge</td>\n",
       "      <td>3</td>\n",
       "      <td>Federal</td>\n",
       "      <td>NaN</td>\n",
       "    </tr>\n",
       "    <tr>\n",
       "      <th>196</th>\n",
       "      <td>University of Cambridge</td>\n",
       "      <td>3</td>\n",
       "      <td>Fifth</td>\n",
       "      <td>NaN</td>\n",
       "    </tr>\n",
       "    <tr>\n",
       "      <th>235</th>\n",
       "      <td>University of Oxford</td>\n",
       "      <td>6</td>\n",
       "      <td>First</td>\n",
       "      <td>NaN</td>\n",
       "    </tr>\n",
       "    <tr>\n",
       "      <th>253</th>\n",
       "      <td>University of Puerto Rico School of Public Adm...</td>\n",
       "      <td>1</td>\n",
       "      <td>First</td>\n",
       "      <td>NaN</td>\n",
       "    </tr>\n",
       "    <tr>\n",
       "      <th>309</th>\n",
       "      <td>University of Oxford</td>\n",
       "      <td>4</td>\n",
       "      <td>Ninth</td>\n",
       "      <td>NaN</td>\n",
       "    </tr>\n",
       "    <tr>\n",
       "      <th>373</th>\n",
       "      <td>European University Institute</td>\n",
       "      <td>4</td>\n",
       "      <td>Second</td>\n",
       "      <td>NaN</td>\n",
       "    </tr>\n",
       "    <tr>\n",
       "      <th>377</th>\n",
       "      <td>University of Cambridge</td>\n",
       "      <td>3</td>\n",
       "      <td>Second</td>\n",
       "      <td>NaN</td>\n",
       "    </tr>\n",
       "    <tr>\n",
       "      <th>386</th>\n",
       "      <td>University of Oxford</td>\n",
       "      <td>2</td>\n",
       "      <td>Second</td>\n",
       "      <td>NaN</td>\n",
       "    </tr>\n",
       "    <tr>\n",
       "      <th>516</th>\n",
       "      <td>University of Oxford</td>\n",
       "      <td>2</td>\n",
       "      <td>Tenth</td>\n",
       "      <td>NaN</td>\n",
       "    </tr>\n",
       "    <tr>\n",
       "      <th>585</th>\n",
       "      <td>University of Oxford</td>\n",
       "      <td>1</td>\n",
       "      <td>Third</td>\n",
       "      <td>NaN</td>\n",
       "    </tr>\n",
       "  </tbody>\n",
       "</table>\n",
       "</div>"
      ],
      "text/plain": [
       "                                                school  count  \\\n",
       "17                                University of Oxford      2   \n",
       "29                      Heidelberg University, Germany      1   \n",
       "72                      Heidelberg University, Germany      1   \n",
       "140                            University of Cambridge      3   \n",
       "196                            University of Cambridge      3   \n",
       "235                               University of Oxford      6   \n",
       "253  University of Puerto Rico School of Public Adm...      1   \n",
       "309                               University of Oxford      4   \n",
       "373                      European University Institute      4   \n",
       "377                            University of Cambridge      3   \n",
       "386                               University of Oxford      2   \n",
       "516                               University of Oxford      2   \n",
       "585                               University of Oxford      1   \n",
       "\n",
       "                  circuit address  \n",
       "17   District of Columbia     NaN  \n",
       "29   District of Columbia     NaN  \n",
       "72                 Eighth     NaN  \n",
       "140               Federal     NaN  \n",
       "196                 Fifth     NaN  \n",
       "235                 First     NaN  \n",
       "253                 First     NaN  \n",
       "309                 Ninth     NaN  \n",
       "373                Second     NaN  \n",
       "377                Second     NaN  \n",
       "386                Second     NaN  \n",
       "516                 Tenth     NaN  \n",
       "585                 Third     NaN  "
      ]
     },
     "execution_count": 14,
     "metadata": {},
     "output_type": "execute_result"
    }
   ],
   "source": [
    "# Double check nulls\n",
    "df_merge[df_merge.isnull().any(axis=1)]"
   ]
  },
  {
   "cell_type": "code",
   "execution_count": 15,
   "id": "a0ffd917",
   "metadata": {},
   "outputs": [],
   "source": [
    "df_merge.to_csv('05-address.csv', index=False)"
   ]
  }
 ],
 "metadata": {
  "kernelspec": {
   "display_name": "Python 3 (ipykernel)",
   "language": "python",
   "name": "python3"
  },
  "language_info": {
   "codemirror_mode": {
    "name": "ipython",
    "version": 3
   },
   "file_extension": ".py",
   "mimetype": "text/x-python",
   "name": "python",
   "nbconvert_exporter": "python",
   "pygments_lexer": "ipython3",
   "version": "3.9.7"
  }
 },
 "nbformat": 4,
 "nbformat_minor": 5
}
