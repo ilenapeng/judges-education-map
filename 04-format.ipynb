{
 "cells": [
  {
   "cell_type": "markdown",
   "id": "d37f7e28",
   "metadata": {},
   "source": [
    "## Format data to get a dataframe with the number of times each school appears"
   ]
  },
  {
   "cell_type": "code",
   "execution_count": 1,
   "id": "1c99ae67",
   "metadata": {},
   "outputs": [
    {
     "name": "stderr",
     "output_type": "stream",
     "text": [
      "/Users/ilenapeng/.pyenv/versions/3.9.7/lib/python3.9/site-packages/pandas/compat/__init__.py:124: UserWarning: Could not import the lzma module. Your installed Python is incomplete. Attempting to use lzma compression will result in a RuntimeError.\n",
      "  warnings.warn(msg)\n"
     ]
    }
   ],
   "source": [
    "import pandas as pd\n",
    "# pd.set_option('max_rows', None)"
   ]
  },
  {
   "cell_type": "code",
   "execution_count": 2,
   "id": "398d9515",
   "metadata": {},
   "outputs": [
    {
     "data": {
      "text/html": [
       "<div>\n",
       "<style scoped>\n",
       "    .dataframe tbody tr th:only-of-type {\n",
       "        vertical-align: middle;\n",
       "    }\n",
       "\n",
       "    .dataframe tbody tr th {\n",
       "        vertical-align: top;\n",
       "    }\n",
       "\n",
       "    .dataframe thead th {\n",
       "        text-align: right;\n",
       "    }\n",
       "</style>\n",
       "<table border=\"1\" class=\"dataframe\">\n",
       "  <thead>\n",
       "    <tr style=\"text-align: right;\">\n",
       "      <th></th>\n",
       "      <th>school1_alt</th>\n",
       "      <th>school2_alt</th>\n",
       "      <th>school3_alt</th>\n",
       "      <th>lastname</th>\n",
       "      <th>firstname</th>\n",
       "      <th>suffix</th>\n",
       "      <th>name</th>\n",
       "      <th>year1</th>\n",
       "      <th>school2</th>\n",
       "      <th>year2</th>\n",
       "      <th>school3</th>\n",
       "      <th>year3</th>\n",
       "      <th>school4</th>\n",
       "      <th>year4</th>\n",
       "      <th>school5</th>\n",
       "      <th>year5</th>\n",
       "      <th>circuit</th>\n",
       "    </tr>\n",
       "  </thead>\n",
       "  <tbody>\n",
       "    <tr>\n",
       "      <th>0</th>\n",
       "      <td>Yale University</td>\n",
       "      <td>NaN</td>\n",
       "      <td>NaN</td>\n",
       "      <td>Colt</td>\n",
       "      <td>LeBaron Bradford</td>\n",
       "      <td>NaN</td>\n",
       "      <td>Colt, LeBaron Bradford</td>\n",
       "      <td>1868.0</td>\n",
       "      <td>Columbia University</td>\n",
       "      <td>1870.0</td>\n",
       "      <td>NaN</td>\n",
       "      <td>NaN</td>\n",
       "      <td>NaN</td>\n",
       "      <td>NaN</td>\n",
       "      <td>NaN</td>\n",
       "      <td>NaN</td>\n",
       "      <td>First</td>\n",
       "    </tr>\n",
       "    <tr>\n",
       "      <th>1</th>\n",
       "      <td>Bowdoin College</td>\n",
       "      <td>NaN</td>\n",
       "      <td>NaN</td>\n",
       "      <td>Putnam</td>\n",
       "      <td>William LeBaron</td>\n",
       "      <td>NaN</td>\n",
       "      <td>Putnam, William LeBaron</td>\n",
       "      <td>1855.0</td>\n",
       "      <td>NaN</td>\n",
       "      <td>1858.0</td>\n",
       "      <td>NaN</td>\n",
       "      <td>NaN</td>\n",
       "      <td>NaN</td>\n",
       "      <td>NaN</td>\n",
       "      <td>NaN</td>\n",
       "      <td>NaN</td>\n",
       "      <td>First</td>\n",
       "    </tr>\n",
       "    <tr>\n",
       "      <th>2</th>\n",
       "      <td>Harvard University</td>\n",
       "      <td>NaN</td>\n",
       "      <td>NaN</td>\n",
       "      <td>Lowell</td>\n",
       "      <td>Francis Cabot</td>\n",
       "      <td>NaN</td>\n",
       "      <td>Lowell, Francis Cabot</td>\n",
       "      <td>1876.0</td>\n",
       "      <td>Harvard University</td>\n",
       "      <td>1879.0</td>\n",
       "      <td>NaN</td>\n",
       "      <td>NaN</td>\n",
       "      <td>NaN</td>\n",
       "      <td>NaN</td>\n",
       "      <td>NaN</td>\n",
       "      <td>NaN</td>\n",
       "      <td>First</td>\n",
       "    </tr>\n",
       "    <tr>\n",
       "      <th>3</th>\n",
       "      <td>Harvard University</td>\n",
       "      <td>NaN</td>\n",
       "      <td>NaN</td>\n",
       "      <td>Schofield</td>\n",
       "      <td>William</td>\n",
       "      <td>NaN</td>\n",
       "      <td>Schofield, William</td>\n",
       "      <td>1883.0</td>\n",
       "      <td>Harvard University</td>\n",
       "      <td>NaN</td>\n",
       "      <td>NaN</td>\n",
       "      <td>NaN</td>\n",
       "      <td>NaN</td>\n",
       "      <td>NaN</td>\n",
       "      <td>NaN</td>\n",
       "      <td>NaN</td>\n",
       "      <td>First</td>\n",
       "    </tr>\n",
       "    <tr>\n",
       "      <th>4</th>\n",
       "      <td>Harvard University</td>\n",
       "      <td>NaN</td>\n",
       "      <td>NaN</td>\n",
       "      <td>Dodge</td>\n",
       "      <td>Frederic</td>\n",
       "      <td>NaN</td>\n",
       "      <td>Dodge, Frederic</td>\n",
       "      <td>1867.0</td>\n",
       "      <td>Harvard University</td>\n",
       "      <td>1869.0</td>\n",
       "      <td>NaN</td>\n",
       "      <td>NaN</td>\n",
       "      <td>NaN</td>\n",
       "      <td>NaN</td>\n",
       "      <td>NaN</td>\n",
       "      <td>NaN</td>\n",
       "      <td>First</td>\n",
       "    </tr>\n",
       "  </tbody>\n",
       "</table>\n",
       "</div>"
      ],
      "text/plain": [
       "          school1_alt school2_alt school3_alt   lastname          firstname  \\\n",
       "0     Yale University         NaN         NaN       Colt   LeBaron Bradford   \n",
       "1     Bowdoin College         NaN         NaN     Putnam    William LeBaron   \n",
       "2  Harvard University         NaN         NaN     Lowell      Francis Cabot   \n",
       "3  Harvard University         NaN         NaN  Schofield            William   \n",
       "4  Harvard University         NaN         NaN      Dodge           Frederic   \n",
       "\n",
       "   suffix                     name   year1              school2   year2  \\\n",
       "0     NaN   Colt, LeBaron Bradford  1868.0  Columbia University  1870.0   \n",
       "1     NaN  Putnam, William LeBaron  1855.0                  NaN  1858.0   \n",
       "2     NaN    Lowell, Francis Cabot  1876.0   Harvard University  1879.0   \n",
       "3     NaN       Schofield, William  1883.0   Harvard University     NaN   \n",
       "4     NaN          Dodge, Frederic  1867.0   Harvard University  1869.0   \n",
       "\n",
       "  school3  year3 school4  year4 school5  year5 circuit  \n",
       "0     NaN    NaN     NaN    NaN     NaN    NaN   First  \n",
       "1     NaN    NaN     NaN    NaN     NaN    NaN   First  \n",
       "2     NaN    NaN     NaN    NaN     NaN    NaN   First  \n",
       "3     NaN    NaN     NaN    NaN     NaN    NaN   First  \n",
       "4     NaN    NaN     NaN    NaN     NaN    NaN   First  "
      ]
     },
     "execution_count": 2,
     "metadata": {},
     "output_type": "execute_result"
    }
   ],
   "source": [
    "df = pd.read_csv('03-clean.csv')\n",
    "df.head()"
   ]
  },
  {
   "cell_type": "code",
   "execution_count": 3,
   "id": "b90d18dd",
   "metadata": {},
   "outputs": [
    {
     "data": {
      "text/html": [
       "<div>\n",
       "<style scoped>\n",
       "    .dataframe tbody tr th:only-of-type {\n",
       "        vertical-align: middle;\n",
       "    }\n",
       "\n",
       "    .dataframe tbody tr th {\n",
       "        vertical-align: top;\n",
       "    }\n",
       "\n",
       "    .dataframe thead th {\n",
       "        text-align: right;\n",
       "    }\n",
       "</style>\n",
       "<table border=\"1\" class=\"dataframe\">\n",
       "  <thead>\n",
       "    <tr style=\"text-align: right;\">\n",
       "      <th></th>\n",
       "      <th>name</th>\n",
       "      <th>circuit</th>\n",
       "      <th>lastname</th>\n",
       "      <th>firstname</th>\n",
       "      <th>variable</th>\n",
       "      <th>school</th>\n",
       "    </tr>\n",
       "  </thead>\n",
       "  <tbody>\n",
       "    <tr>\n",
       "      <th>0</th>\n",
       "      <td>Colt, LeBaron Bradford</td>\n",
       "      <td>First</td>\n",
       "      <td>Colt</td>\n",
       "      <td>LeBaron Bradford</td>\n",
       "      <td>school1_alt</td>\n",
       "      <td>Yale University</td>\n",
       "    </tr>\n",
       "    <tr>\n",
       "      <th>1</th>\n",
       "      <td>Putnam, William LeBaron</td>\n",
       "      <td>First</td>\n",
       "      <td>Putnam</td>\n",
       "      <td>William LeBaron</td>\n",
       "      <td>school1_alt</td>\n",
       "      <td>Bowdoin College</td>\n",
       "    </tr>\n",
       "    <tr>\n",
       "      <th>2</th>\n",
       "      <td>Lowell, Francis Cabot</td>\n",
       "      <td>First</td>\n",
       "      <td>Lowell</td>\n",
       "      <td>Francis Cabot</td>\n",
       "      <td>school1_alt</td>\n",
       "      <td>Harvard University</td>\n",
       "    </tr>\n",
       "    <tr>\n",
       "      <th>3</th>\n",
       "      <td>Schofield, William</td>\n",
       "      <td>First</td>\n",
       "      <td>Schofield</td>\n",
       "      <td>William</td>\n",
       "      <td>school1_alt</td>\n",
       "      <td>Harvard University</td>\n",
       "    </tr>\n",
       "    <tr>\n",
       "      <th>4</th>\n",
       "      <td>Dodge, Frederic</td>\n",
       "      <td>First</td>\n",
       "      <td>Dodge</td>\n",
       "      <td>Frederic</td>\n",
       "      <td>school1_alt</td>\n",
       "      <td>Harvard University</td>\n",
       "    </tr>\n",
       "  </tbody>\n",
       "</table>\n",
       "</div>"
      ],
      "text/plain": [
       "                      name circuit   lastname          firstname     variable  \\\n",
       "0   Colt, LeBaron Bradford   First       Colt   LeBaron Bradford  school1_alt   \n",
       "1  Putnam, William LeBaron   First     Putnam    William LeBaron  school1_alt   \n",
       "2    Lowell, Francis Cabot   First     Lowell      Francis Cabot  school1_alt   \n",
       "3       Schofield, William   First  Schofield            William  school1_alt   \n",
       "4          Dodge, Frederic   First      Dodge           Frederic  school1_alt   \n",
       "\n",
       "               school  \n",
       "0     Yale University  \n",
       "1     Bowdoin College  \n",
       "2  Harvard University  \n",
       "3  Harvard University  \n",
       "4  Harvard University  "
      ]
     },
     "execution_count": 3,
     "metadata": {},
     "output_type": "execute_result"
    }
   ],
   "source": [
    "long_df = pd.melt(df, id_vars=['name', 'circuit', 'lastname', 'firstname'], value_vars=['school1_alt', 'school2_alt', 'school3_alt', 'school2', 'school3', 'school4', 'school5'], value_name='school')\n",
    "long_df.head()"
   ]
  },
  {
   "cell_type": "code",
   "execution_count": 4,
   "id": "40cf0298",
   "metadata": {},
   "outputs": [
    {
     "data": {
      "text/plain": [
       "276"
      ]
     },
     "execution_count": 4,
     "metadata": {},
     "output_type": "execute_result"
    }
   ],
   "source": [
    "# To make a table of people from each school in total, across all circuits\n",
    "\n",
    "count_all_df = pd.DataFrame(long_df.school.value_counts()).reset_index()\n",
    "count_all_df.columns = ['school', 'count']\n",
    "\n",
    "len(count_all_df)"
   ]
  },
  {
   "cell_type": "code",
   "execution_count": 5,
   "id": "2f44d81f",
   "metadata": {},
   "outputs": [
    {
     "data": {
      "text/plain": [
       "591"
      ]
     },
     "execution_count": 5,
     "metadata": {},
     "output_type": "execute_result"
    }
   ],
   "source": [
    "count_by_circuit_df = pd.DataFrame(long_df.groupby('circuit').school.value_counts().reset_index(name='count'))\n",
    "\n",
    "# rearrange columns to merge with the above dataframe\n",
    "count_by_circuit_df = count_by_circuit_df[['school', 'count', 'circuit']]\n",
    "\n",
    "len(count_by_circuit_df)"
   ]
  },
  {
   "cell_type": "code",
   "execution_count": 6,
   "id": "7978687b",
   "metadata": {},
   "outputs": [],
   "source": [
    "count_by_circuit_df.to_csv('04-format.csv', index=False)\n",
    "count_all_df.to_csv('04-format-table.csv', index=False)"
   ]
  }
 ],
 "metadata": {
  "kernelspec": {
   "display_name": "Python 3 (ipykernel)",
   "language": "python",
   "name": "python3"
  },
  "language_info": {
   "codemirror_mode": {
    "name": "ipython",
    "version": 3
   },
   "file_extension": ".py",
   "mimetype": "text/x-python",
   "name": "python",
   "nbconvert_exporter": "python",
   "pygments_lexer": "ipython3",
   "version": "3.9.7"
  }
 },
 "nbformat": 4,
 "nbformat_minor": 5
}
