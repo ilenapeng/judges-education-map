{
 "cells": [
  {
   "cell_type": "markdown",
   "id": "49767c0b",
   "metadata": {},
   "source": [
    "## Scrape judges' education"
   ]
  },
  {
   "cell_type": "code",
   "execution_count": 1,
   "id": "f3e043a6",
   "metadata": {},
   "outputs": [
    {
     "name": "stderr",
     "output_type": "stream",
     "text": [
      "/Users/ilenapeng/.pyenv/versions/3.9.7/lib/python3.9/site-packages/pandas/compat/__init__.py:124: UserWarning: Could not import the lzma module. Your installed Python is incomplete. Attempting to use lzma compression will result in a RuntimeError.\n",
      "  warnings.warn(msg)\n"
     ]
    }
   ],
   "source": [
    "import pandas as pd\n",
    "\n",
    "from selenium import webdriver\n",
    "from selenium.webdriver.common.by import By\n",
    "from selenium.webdriver.support.ui import WebDriverWait\n",
    "from selenium.webdriver.support import expected_conditions as EC\n",
    "from selenium.webdriver.support.ui import Select\n",
    "\n",
    "from webdriver_manager.chrome import ChromeDriverManager"
   ]
  },
  {
   "cell_type": "code",
   "execution_count": 2,
   "id": "53877948",
   "metadata": {},
   "outputs": [],
   "source": [
    "import requests\n",
    "from bs4 import BeautifulSoup"
   ]
  },
  {
   "cell_type": "code",
   "execution_count": 3,
   "id": "3a365d64",
   "metadata": {},
   "outputs": [],
   "source": [
    "import re"
   ]
  },
  {
   "cell_type": "code",
   "execution_count": 4,
   "id": "e7094c94",
   "metadata": {},
   "outputs": [
    {
     "name": "stderr",
     "output_type": "stream",
     "text": [
      "\n",
      "\n",
      "====== WebDriver manager ======\n",
      "Current google-chrome version is 96.0.4664\n",
      "Get LATEST chromedriver version for 96.0.4664 google-chrome\n",
      "Driver [/Users/ilenapeng/.wdm/drivers/chromedriver/mac64/96.0.4664.45/chromedriver] found in cache\n",
      "/var/folders/9x/ttxn_gwj0592mr6h8s5y29980000gn/T/ipykernel_33808/1503906442.py:1: DeprecationWarning: executable_path has been deprecated, please pass in a Service object\n",
      "  driver = webdriver.Chrome(ChromeDriverManager().install())\n"
     ]
    }
   ],
   "source": [
    "driver = webdriver.Chrome(ChromeDriverManager().install())"
   ]
  },
  {
   "cell_type": "markdown",
   "id": "be7d999e",
   "metadata": {},
   "source": [
    "## DC Court"
   ]
  },
  {
   "cell_type": "code",
   "execution_count": 5,
   "id": "3a47be26",
   "metadata": {},
   "outputs": [],
   "source": [
    "driver.get(\"https://www.fjc.gov/history/courts/u.s.-court-appeals-district-columbia-circuit-justices-and-judges\")\n",
    "doc = BeautifulSoup(driver.page_source)"
   ]
  },
  {
   "cell_type": "code",
   "execution_count": 6,
   "id": "19a9bb2b",
   "metadata": {},
   "outputs": [
    {
     "data": {
      "text/plain": [
       "65"
      ]
     },
     "execution_count": 6,
     "metadata": {},
     "output_type": "execute_result"
    }
   ],
   "source": [
    "# get links -- list\n",
    "list_o_links = []\n",
    "for judge in doc.find_all('a', class_='colorbox-node colorbox-node-gallery init-colorbox-node-processed-processed'):\n",
    "    judge_dict = {}\n",
    "    judge_dict['name'] = judge.text\n",
    "    judge_dict['link'] = judge['href']\n",
    "    list_o_links.append(judge_dict)\n",
    "\n",
    "len(list_o_links)"
   ]
  },
  {
   "cell_type": "code",
   "execution_count": 8,
   "id": "fdd2320d",
   "metadata": {},
   "outputs": [
    {
     "data": {
      "text/plain": [
       "65"
      ]
     },
     "execution_count": 8,
     "metadata": {},
     "output_type": "execute_result"
    }
   ],
   "source": [
    "the_table = []\n",
    "for entry in list_o_links:\n",
    "    # this goes through each link in list of links\n",
    "    myhref = \"https://www.fjc.gov\"+entry['link']\n",
    "    # get link\n",
    "    driver.get(myhref)\n",
    "    # get doc\n",
    "    doc = BeautifulSoup(driver.page_source)\n",
    "    # create empty dictionary\n",
    "    each_judge = {}\n",
    "    # for each row, find the name using beautiful soup\n",
    "    for row in doc:\n",
    "        each_judge['name'] = doc.find_all('h1')[1].text\n",
    "    \n",
    "    # split the doc into lines and then find the text between Education: and Professional\n",
    "    doc_lines = doc.get_text().splitlines()\n",
    "    for line in doc_lines:\n",
    "        if re.search(r\"(?:Education[:])(.*)(?:Professional)\", line):\n",
    "            education_line = line\n",
    "            education_text = re.findall(r\"(?:Education[:] )(.*)(?:Professional)\",education_line,re.M)\n",
    "            education_text = education_text[0]\n",
    "            each_judge['school'] = education_text\n",
    "    \n",
    "    the_table.append(each_judge)\n",
    "\n",
    "len(the_table)"
   ]
  },
  {
   "cell_type": "code",
   "execution_count": 9,
   "id": "9e10c042",
   "metadata": {},
   "outputs": [
    {
     "data": {
      "text/html": [
       "<div>\n",
       "<style scoped>\n",
       "    .dataframe tbody tr th:only-of-type {\n",
       "        vertical-align: middle;\n",
       "    }\n",
       "\n",
       "    .dataframe tbody tr th {\n",
       "        vertical-align: top;\n",
       "    }\n",
       "\n",
       "    .dataframe thead th {\n",
       "        text-align: right;\n",
       "    }\n",
       "</style>\n",
       "<table border=\"1\" class=\"dataframe\">\n",
       "  <thead>\n",
       "    <tr style=\"text-align: right;\">\n",
       "      <th></th>\n",
       "      <th>name</th>\n",
       "      <th>school</th>\n",
       "    </tr>\n",
       "  </thead>\n",
       "  <tbody>\n",
       "    <tr>\n",
       "      <th>0</th>\n",
       "      <td>Shepard, Seth</td>\n",
       "      <td>Washington College (now Washington and Lee Uni...</td>\n",
       "    </tr>\n",
       "    <tr>\n",
       "      <th>1</th>\n",
       "      <td>Morris, Martin Ferdinand</td>\n",
       "      <td>Georgetown College (now Georgetown University)...</td>\n",
       "    </tr>\n",
       "    <tr>\n",
       "      <th>2</th>\n",
       "      <td>Alvey, Richard Henry</td>\n",
       "      <td>Read law, 1849</td>\n",
       "    </tr>\n",
       "    <tr>\n",
       "      <th>3</th>\n",
       "      <td>Duell, Charles Holland</td>\n",
       "      <td>Hamilton College, A.B., 1871Hamilton College L...</td>\n",
       "    </tr>\n",
       "    <tr>\n",
       "      <th>4</th>\n",
       "      <td>McComas, Louis Emory</td>\n",
       "      <td>Dickinson College, 1866Read law, 1868</td>\n",
       "    </tr>\n",
       "  </tbody>\n",
       "</table>\n",
       "</div>"
      ],
      "text/plain": [
       "                       name                                             school\n",
       "0             Shepard, Seth  Washington College (now Washington and Lee Uni...\n",
       "1  Morris, Martin Ferdinand  Georgetown College (now Georgetown University)...\n",
       "2      Alvey, Richard Henry                                     Read law, 1849\n",
       "3    Duell, Charles Holland  Hamilton College, A.B., 1871Hamilton College L...\n",
       "4      McComas, Louis Emory              Dickinson College, 1866Read law, 1868"
      ]
     },
     "execution_count": 9,
     "metadata": {},
     "output_type": "execute_result"
    }
   ],
   "source": [
    "district_df = pd.DataFrame(the_table)\n",
    "district_df.head()"
   ]
  },
  {
   "cell_type": "code",
   "execution_count": 10,
   "id": "df90d053",
   "metadata": {},
   "outputs": [
    {
     "data": {
      "text/plain": [
       "65"
      ]
     },
     "execution_count": 10,
     "metadata": {},
     "output_type": "execute_result"
    }
   ],
   "source": [
    "len(district_df)"
   ]
  },
  {
   "cell_type": "markdown",
   "id": "582381de",
   "metadata": {},
   "source": [
    "## First Circuit"
   ]
  },
  {
   "cell_type": "code",
   "execution_count": 11,
   "id": "a9e4dca8",
   "metadata": {},
   "outputs": [],
   "source": [
    "driver.get(\"https://www.fjc.gov/history/courts/u.s.-court-appeals-first-circuit-judges\")\n",
    "doc = BeautifulSoup(driver.page_source)"
   ]
  },
  {
   "cell_type": "code",
   "execution_count": 12,
   "id": "f7f5fd01",
   "metadata": {},
   "outputs": [
    {
     "data": {
      "text/plain": [
       "33"
      ]
     },
     "execution_count": 12,
     "metadata": {},
     "output_type": "execute_result"
    }
   ],
   "source": [
    "list_o_links = []\n",
    "for judge in doc.find_all('a', class_='colorbox-node colorbox-node-gallery init-colorbox-node-processed-processed'):\n",
    "    judge_dict = {}\n",
    "    judge_dict['name'] = judge.text\n",
    "    judge_dict['link'] = judge['href']\n",
    "    list_o_links.append(judge_dict)\n",
    "\n",
    "len(list_o_links)"
   ]
  },
  {
   "cell_type": "code",
   "execution_count": 13,
   "id": "da8f5cb4",
   "metadata": {},
   "outputs": [
    {
     "data": {
      "text/plain": [
       "33"
      ]
     },
     "execution_count": 13,
     "metadata": {},
     "output_type": "execute_result"
    }
   ],
   "source": [
    "the_table = []\n",
    "for entry in list_o_links:\n",
    "    myhref = \"https://www.fjc.gov\"+entry['link']\n",
    "    driver.get(myhref)\n",
    "    doc = BeautifulSoup(driver.page_source)\n",
    "    each_judge = {}\n",
    "    for row in doc:\n",
    "        each_judge['name'] = doc.find_all('h1')[1].text\n",
    "    \n",
    "    doc_lines = doc.get_text().splitlines()\n",
    "    for line in doc_lines:\n",
    "        if re.search(r\"(?:Education[:])(.*)(?:Professional)\", line):\n",
    "            education_line = line\n",
    "            education_text = re.findall(r\"(?:Education[:] )(.*)(?:Professional)\",education_line,re.M)\n",
    "            education_text = education_text[0]\n",
    "            each_judge['school'] = education_text\n",
    "    \n",
    "    the_table.append(each_judge)\n",
    "\n",
    "len(the_table)"
   ]
  },
  {
   "cell_type": "code",
   "execution_count": 14,
   "id": "26c34048",
   "metadata": {},
   "outputs": [
    {
     "data": {
      "text/plain": [
       "33"
      ]
     },
     "execution_count": 14,
     "metadata": {},
     "output_type": "execute_result"
    }
   ],
   "source": [
    "circuit1_df = pd.DataFrame(the_table)\n",
    "len(circuit1_df)"
   ]
  },
  {
   "cell_type": "markdown",
   "id": "8b685db2",
   "metadata": {},
   "source": [
    "## Second Circuit"
   ]
  },
  {
   "cell_type": "code",
   "execution_count": 15,
   "id": "7e0639c0",
   "metadata": {},
   "outputs": [],
   "source": [
    "driver.get(\"https://www.fjc.gov/history/courts/u.s.-court-appeals-second-circuit-judges\")\n",
    "doc = BeautifulSoup(driver.page_source)"
   ]
  },
  {
   "cell_type": "code",
   "execution_count": 16,
   "id": "8fef9cc5",
   "metadata": {},
   "outputs": [
    {
     "data": {
      "text/plain": [
       "79"
      ]
     },
     "execution_count": 16,
     "metadata": {},
     "output_type": "execute_result"
    }
   ],
   "source": [
    "list_o_links = []\n",
    "for judge in doc.find_all('a', class_='colorbox-node colorbox-node-gallery init-colorbox-node-processed-processed'):\n",
    "    judge_dict = {}\n",
    "    judge_dict['name'] = judge.text\n",
    "    judge_dict['link'] = judge['href']\n",
    "    list_o_links.append(judge_dict)\n",
    "\n",
    "len(list_o_links)"
   ]
  },
  {
   "cell_type": "code",
   "execution_count": 17,
   "id": "25213bfa",
   "metadata": {},
   "outputs": [
    {
     "data": {
      "text/plain": [
       "79"
      ]
     },
     "execution_count": 17,
     "metadata": {},
     "output_type": "execute_result"
    }
   ],
   "source": [
    "the_table = []\n",
    "for entry in list_o_links:\n",
    "    myhref = \"https://www.fjc.gov\"+entry['link']\n",
    "    driver.get(myhref)\n",
    "    doc = BeautifulSoup(driver.page_source)\n",
    "    each_judge = {}\n",
    "    for row in doc:\n",
    "        each_judge['name'] = doc.find_all('h1')[1].text\n",
    "    \n",
    "    doc_lines = doc.get_text().splitlines()\n",
    "    for line in doc_lines:\n",
    "        if re.search(r\"(?:Education[:])(.*)(?:Professional)\", line):\n",
    "            education_line = line\n",
    "            education_text = re.findall(r\"(?:Education[:] )(.*)(?:Professional)\",education_line,re.M)\n",
    "            education_text = education_text[0]\n",
    "            each_judge['school'] = education_text\n",
    "    \n",
    "    the_table.append(each_judge)\n",
    "\n",
    "len(the_table)"
   ]
  },
  {
   "cell_type": "code",
   "execution_count": 18,
   "id": "ec7951d1",
   "metadata": {},
   "outputs": [
    {
     "data": {
      "text/plain": [
       "79"
      ]
     },
     "execution_count": 18,
     "metadata": {},
     "output_type": "execute_result"
    }
   ],
   "source": [
    "circuit2_df = pd.DataFrame(the_table)\n",
    "len(circuit2_df)"
   ]
  },
  {
   "cell_type": "markdown",
   "id": "4111a0c1",
   "metadata": {},
   "source": [
    "## Third Circuit"
   ]
  },
  {
   "cell_type": "code",
   "execution_count": 19,
   "id": "3a3e3df5",
   "metadata": {},
   "outputs": [],
   "source": [
    "driver.get(\"https://www.fjc.gov/history/courts/u.s.-court-appeals-third-circuit-judges\")\n",
    "doc = BeautifulSoup(driver.page_source)"
   ]
  },
  {
   "cell_type": "code",
   "execution_count": 20,
   "id": "dc555081",
   "metadata": {},
   "outputs": [
    {
     "data": {
      "text/plain": [
       "72"
      ]
     },
     "execution_count": 20,
     "metadata": {},
     "output_type": "execute_result"
    }
   ],
   "source": [
    "list_o_links = []\n",
    "for judge in doc.find_all('a', class_='colorbox-node colorbox-node-gallery init-colorbox-node-processed-processed'):\n",
    "    judge_dict = {}\n",
    "    judge_dict['name'] = judge.text\n",
    "    judge_dict['link'] = judge['href']\n",
    "    list_o_links.append(judge_dict)\n",
    "\n",
    "len(list_o_links)"
   ]
  },
  {
   "cell_type": "code",
   "execution_count": 21,
   "id": "5eba8f9d",
   "metadata": {},
   "outputs": [
    {
     "data": {
      "text/plain": [
       "72"
      ]
     },
     "execution_count": 21,
     "metadata": {},
     "output_type": "execute_result"
    }
   ],
   "source": [
    "the_table = []\n",
    "for entry in list_o_links:\n",
    "    myhref = \"https://www.fjc.gov\"+entry['link']\n",
    "    driver.get(myhref)\n",
    "    doc = BeautifulSoup(driver.page_source)\n",
    "    each_judge = {}\n",
    "    for row in doc:\n",
    "        each_judge['name'] = doc.find_all('h1')[1].text\n",
    "    \n",
    "    doc_lines = doc.get_text().splitlines()\n",
    "    for line in doc_lines:\n",
    "        if re.search(r\"(?:Education[:])(.*)(?:Professional)\", line):\n",
    "            education_line = line\n",
    "            education_text = re.findall(r\"(?:Education[:] )(.*)(?:Professional)\",education_line,re.M)\n",
    "            education_text = education_text[0]\n",
    "            each_judge['school'] = education_text\n",
    "    \n",
    "    the_table.append(each_judge)\n",
    "\n",
    "len(the_table)"
   ]
  },
  {
   "cell_type": "code",
   "execution_count": 22,
   "id": "89b534dc",
   "metadata": {},
   "outputs": [
    {
     "data": {
      "text/plain": [
       "72"
      ]
     },
     "execution_count": 22,
     "metadata": {},
     "output_type": "execute_result"
    }
   ],
   "source": [
    "circuit3_df = pd.DataFrame(the_table)\n",
    "len(circuit3_df)"
   ]
  },
  {
   "cell_type": "markdown",
   "id": "e1b77b38",
   "metadata": {},
   "source": [
    "## Fourth Circuit"
   ]
  },
  {
   "cell_type": "code",
   "execution_count": 23,
   "id": "c4681419",
   "metadata": {},
   "outputs": [],
   "source": [
    "driver.get(\"https://www.fjc.gov/history/courts/u.s.-court-appeals-fourth-circuit-judges\")\n",
    "doc = BeautifulSoup(driver.page_source)"
   ]
  },
  {
   "cell_type": "code",
   "execution_count": 24,
   "id": "90991308",
   "metadata": {},
   "outputs": [
    {
     "data": {
      "text/plain": [
       "55"
      ]
     },
     "execution_count": 24,
     "metadata": {},
     "output_type": "execute_result"
    }
   ],
   "source": [
    "list_o_links = []\n",
    "for judge in doc.find_all('a', class_='colorbox-node colorbox-node-gallery init-colorbox-node-processed-processed'):\n",
    "    judge_dict = {}\n",
    "    judge_dict['name'] = judge.text\n",
    "    judge_dict['link'] = judge['href']\n",
    "    list_o_links.append(judge_dict)\n",
    "\n",
    "len(list_o_links)"
   ]
  },
  {
   "cell_type": "code",
   "execution_count": 25,
   "id": "03b5d3cf",
   "metadata": {},
   "outputs": [
    {
     "data": {
      "text/plain": [
       "55"
      ]
     },
     "execution_count": 25,
     "metadata": {},
     "output_type": "execute_result"
    }
   ],
   "source": [
    "the_table = []\n",
    "for entry in list_o_links:\n",
    "    myhref = \"https://www.fjc.gov\"+entry['link']\n",
    "    driver.get(myhref)\n",
    "    doc = BeautifulSoup(driver.page_source)\n",
    "    each_judge = {}\n",
    "    for row in doc:\n",
    "        each_judge['name'] = doc.find_all('h1')[1].text\n",
    "    \n",
    "    doc_lines = doc.get_text().splitlines()\n",
    "    for line in doc_lines:\n",
    "        if re.search(r\"(?:Education[:])(.*)(?:Professional)\", line):\n",
    "            education_line = line\n",
    "            education_text = re.findall(r\"(?:Education[:] )(.*)(?:Professional)\",education_line,re.M)\n",
    "            education_text = education_text[0]\n",
    "            each_judge['school'] = education_text\n",
    "    \n",
    "    the_table.append(each_judge)\n",
    "\n",
    "len(the_table)"
   ]
  },
  {
   "cell_type": "code",
   "execution_count": 26,
   "id": "71600037",
   "metadata": {},
   "outputs": [
    {
     "data": {
      "text/plain": [
       "55"
      ]
     },
     "execution_count": 26,
     "metadata": {},
     "output_type": "execute_result"
    }
   ],
   "source": [
    "circuit4_df = pd.DataFrame(the_table)\n",
    "len(circuit4_df)"
   ]
  },
  {
   "cell_type": "markdown",
   "id": "79e6619b",
   "metadata": {},
   "source": [
    "## Fifth Circuit"
   ]
  },
  {
   "cell_type": "code",
   "execution_count": 27,
   "id": "af029b7b",
   "metadata": {},
   "outputs": [],
   "source": [
    "driver.get(\"https://www.fjc.gov/history/courts/u.s.-court-appeals-fifth-circuit-judges\")\n",
    "doc = BeautifulSoup(driver.page_source)"
   ]
  },
  {
   "cell_type": "code",
   "execution_count": 28,
   "id": "4e54b96f",
   "metadata": {},
   "outputs": [
    {
     "data": {
      "text/plain": [
       "89"
      ]
     },
     "execution_count": 28,
     "metadata": {},
     "output_type": "execute_result"
    }
   ],
   "source": [
    "list_o_links = []\n",
    "for judge in doc.find_all('a', class_='colorbox-node colorbox-node-gallery init-colorbox-node-processed-processed'):\n",
    "    judge_dict = {}\n",
    "    judge_dict['name'] = judge.text\n",
    "    judge_dict['link'] = judge['href']\n",
    "    list_o_links.append(judge_dict)\n",
    "\n",
    "len(list_o_links)"
   ]
  },
  {
   "cell_type": "code",
   "execution_count": 30,
   "id": "67cb5489",
   "metadata": {},
   "outputs": [
    {
     "data": {
      "text/plain": [
       "89"
      ]
     },
     "execution_count": 30,
     "metadata": {},
     "output_type": "execute_result"
    }
   ],
   "source": [
    "the_table = []\n",
    "for entry in list_o_links:\n",
    "    myhref = \"https://www.fjc.gov\"+entry['link']\n",
    "    driver.get(myhref)\n",
    "    doc = BeautifulSoup(driver.page_source)\n",
    "    each_judge = {}\n",
    "    for row in doc:\n",
    "        each_judge['name'] = doc.find_all('h1')[1].text\n",
    "    \n",
    "    doc_lines = doc.get_text().splitlines()\n",
    "    for line in doc_lines:\n",
    "        if re.search(r\"(?:Education[:])(.*)(?:Professional)\", line):\n",
    "            education_line = line\n",
    "            education_text = re.findall(r\"(?:Education[:] )(.*)(?:Professional)\",education_line,re.M)\n",
    "            education_text = education_text[0]\n",
    "            each_judge['school'] = education_text\n",
    "    \n",
    "    the_table.append(each_judge)\n",
    "\n",
    "len(the_table)"
   ]
  },
  {
   "cell_type": "code",
   "execution_count": 31,
   "id": "c2ba0d5e",
   "metadata": {},
   "outputs": [
    {
     "data": {
      "text/plain": [
       "89"
      ]
     },
     "execution_count": 31,
     "metadata": {},
     "output_type": "execute_result"
    }
   ],
   "source": [
    "circuit5_df = pd.DataFrame(the_table)\n",
    "len(circuit5_df)"
   ]
  },
  {
   "cell_type": "markdown",
   "id": "65fa2aa6",
   "metadata": {},
   "source": [
    "## Sixth Circuit"
   ]
  },
  {
   "cell_type": "code",
   "execution_count": 32,
   "id": "6e38fe0c",
   "metadata": {},
   "outputs": [],
   "source": [
    "driver.get(\"https://www.fjc.gov/history/courts/u.s.-court-appeals-sixth-circuit-judges\")\n",
    "doc = BeautifulSoup(driver.page_source)"
   ]
  },
  {
   "cell_type": "code",
   "execution_count": 33,
   "id": "abd81287",
   "metadata": {},
   "outputs": [
    {
     "data": {
      "text/plain": [
       "76"
      ]
     },
     "execution_count": 33,
     "metadata": {},
     "output_type": "execute_result"
    }
   ],
   "source": [
    "list_o_links = []\n",
    "for judge in doc.find_all('a', class_='colorbox-node colorbox-node-gallery init-colorbox-node-processed-processed'):\n",
    "    judge_dict = {}\n",
    "    judge_dict['name'] = judge.text\n",
    "    judge_dict['link'] = judge['href']\n",
    "    list_o_links.append(judge_dict)\n",
    "\n",
    "len(list_o_links)"
   ]
  },
  {
   "cell_type": "code",
   "execution_count": 34,
   "id": "f475a653",
   "metadata": {},
   "outputs": [
    {
     "data": {
      "text/plain": [
       "76"
      ]
     },
     "execution_count": 34,
     "metadata": {},
     "output_type": "execute_result"
    }
   ],
   "source": [
    "the_table = []\n",
    "for entry in list_o_links:\n",
    "    myhref = \"https://www.fjc.gov\"+entry['link']\n",
    "    driver.get(myhref)\n",
    "    doc = BeautifulSoup(driver.page_source)\n",
    "    each_judge = {}\n",
    "    for row in doc:\n",
    "        each_judge['name'] = doc.find_all('h1')[1].text\n",
    "    \n",
    "    doc_lines = doc.get_text().splitlines()\n",
    "    for line in doc_lines:\n",
    "        if re.search(r\"(?:Education[:])(.*)(?:Professional)\", line):\n",
    "            education_line = line\n",
    "            education_text = re.findall(r\"(?:Education[:] )(.*)(?:Professional)\",education_line,re.M)\n",
    "            education_text = education_text[0]\n",
    "            each_judge['school'] = education_text\n",
    "    \n",
    "    the_table.append(each_judge)\n",
    "\n",
    "len(the_table)"
   ]
  },
  {
   "cell_type": "code",
   "execution_count": 35,
   "id": "8a377843",
   "metadata": {},
   "outputs": [
    {
     "data": {
      "text/plain": [
       "76"
      ]
     },
     "execution_count": 35,
     "metadata": {},
     "output_type": "execute_result"
    }
   ],
   "source": [
    "circuit6_df = pd.DataFrame(the_table)\n",
    "len(circuit6_df)"
   ]
  },
  {
   "cell_type": "markdown",
   "id": "1c044770",
   "metadata": {},
   "source": [
    "## Seventh Circuit"
   ]
  },
  {
   "cell_type": "code",
   "execution_count": 36,
   "id": "972eb617",
   "metadata": {},
   "outputs": [],
   "source": [
    "driver.get(\"https://www.fjc.gov/history/courts/u.s.-court-appeals-seventh-circuit-judges\")\n",
    "doc = BeautifulSoup(driver.page_source)"
   ]
  },
  {
   "cell_type": "code",
   "execution_count": 37,
   "id": "be199aa1",
   "metadata": {},
   "outputs": [
    {
     "data": {
      "text/plain": [
       "61"
      ]
     },
     "execution_count": 37,
     "metadata": {},
     "output_type": "execute_result"
    }
   ],
   "source": [
    "list_o_links = []\n",
    "for judge in doc.find_all('a', class_='colorbox-node colorbox-node-gallery init-colorbox-node-processed-processed'):\n",
    "    judge_dict = {}\n",
    "    judge_dict['name'] = judge.text\n",
    "    judge_dict['link'] = judge['href']\n",
    "    list_o_links.append(judge_dict)\n",
    "\n",
    "len(list_o_links)"
   ]
  },
  {
   "cell_type": "code",
   "execution_count": 38,
   "id": "28464148",
   "metadata": {},
   "outputs": [
    {
     "data": {
      "text/plain": [
       "61"
      ]
     },
     "execution_count": 38,
     "metadata": {},
     "output_type": "execute_result"
    }
   ],
   "source": [
    "the_table = []\n",
    "for entry in list_o_links:\n",
    "    myhref = \"https://www.fjc.gov\"+entry['link']\n",
    "    driver.get(myhref)\n",
    "    doc = BeautifulSoup(driver.page_source)\n",
    "    each_judge = {}\n",
    "    for row in doc:\n",
    "        each_judge['name'] = doc.find_all('h1')[1].text\n",
    "    \n",
    "    doc_lines = doc.get_text().splitlines()\n",
    "    for line in doc_lines:\n",
    "        if re.search(r\"(?:Education[:])(.*)(?:Professional)\", line):\n",
    "            education_line = line\n",
    "            education_text = re.findall(r\"(?:Education[:] )(.*)(?:Professional)\",education_line,re.M)\n",
    "            education_text = education_text[0]\n",
    "            each_judge['school'] = education_text\n",
    "    \n",
    "    the_table.append(each_judge)\n",
    "\n",
    "len(the_table)"
   ]
  },
  {
   "cell_type": "code",
   "execution_count": 39,
   "id": "8b6be2ff",
   "metadata": {},
   "outputs": [
    {
     "data": {
      "text/plain": [
       "61"
      ]
     },
     "execution_count": 39,
     "metadata": {},
     "output_type": "execute_result"
    }
   ],
   "source": [
    "circuit7_df = pd.DataFrame(the_table)\n",
    "len(circuit7_df)"
   ]
  },
  {
   "cell_type": "markdown",
   "id": "b02ba15f",
   "metadata": {},
   "source": [
    "## Eighth Circuit"
   ]
  },
  {
   "cell_type": "code",
   "execution_count": 40,
   "id": "273a2771",
   "metadata": {},
   "outputs": [],
   "source": [
    "driver.get(\"https://www.fjc.gov/history/courts/u.s.-court-appeals-eighth-circuit-judges\")\n",
    "doc = BeautifulSoup(driver.page_source)"
   ]
  },
  {
   "cell_type": "code",
   "execution_count": 41,
   "id": "ef09c972",
   "metadata": {},
   "outputs": [
    {
     "data": {
      "text/plain": [
       "63"
      ]
     },
     "execution_count": 41,
     "metadata": {},
     "output_type": "execute_result"
    }
   ],
   "source": [
    "list_o_links = []\n",
    "for judge in doc.find_all('a', class_='colorbox-node colorbox-node-gallery init-colorbox-node-processed-processed'):\n",
    "    judge_dict = {}\n",
    "    judge_dict['name'] = judge.text\n",
    "    judge_dict['link'] = judge['href']\n",
    "    list_o_links.append(judge_dict)\n",
    "\n",
    "len(list_o_links)"
   ]
  },
  {
   "cell_type": "code",
   "execution_count": 42,
   "id": "c7c8bf24",
   "metadata": {},
   "outputs": [
    {
     "data": {
      "text/plain": [
       "63"
      ]
     },
     "execution_count": 42,
     "metadata": {},
     "output_type": "execute_result"
    }
   ],
   "source": [
    "the_table = []\n",
    "for entry in list_o_links:\n",
    "    myhref = \"https://www.fjc.gov\"+entry['link']\n",
    "    driver.get(myhref)\n",
    "    doc = BeautifulSoup(driver.page_source)\n",
    "    each_judge = {}\n",
    "    for row in doc:\n",
    "        each_judge['name'] = doc.find_all('h1')[1].text\n",
    "    \n",
    "    doc_lines = doc.get_text().splitlines()\n",
    "    for line in doc_lines:\n",
    "        if re.search(r\"(?:Education[:])(.*)(?:Professional)\", line):\n",
    "            education_line = line\n",
    "            education_text = re.findall(r\"(?:Education[:] )(.*)(?:Professional)\",education_line,re.M)\n",
    "            education_text = education_text[0]\n",
    "            each_judge['school'] = education_text\n",
    "    \n",
    "    the_table.append(each_judge)\n",
    "\n",
    "len(the_table)"
   ]
  },
  {
   "cell_type": "code",
   "execution_count": 43,
   "id": "ad8f805d",
   "metadata": {},
   "outputs": [
    {
     "data": {
      "text/plain": [
       "63"
      ]
     },
     "execution_count": 43,
     "metadata": {},
     "output_type": "execute_result"
    }
   ],
   "source": [
    "circuit8_df = pd.DataFrame(the_table)\n",
    "len(circuit8_df)"
   ]
  },
  {
   "cell_type": "markdown",
   "id": "d81d79f1",
   "metadata": {},
   "source": [
    "## Ninth Circuit"
   ]
  },
  {
   "cell_type": "code",
   "execution_count": 44,
   "id": "53d3248b",
   "metadata": {},
   "outputs": [],
   "source": [
    "driver.get(\"https://www.fjc.gov/history/courts/u.s.-court-appeals-ninth-circuit-judges\")\n",
    "doc = BeautifulSoup(driver.page_source)"
   ]
  },
  {
   "cell_type": "code",
   "execution_count": 45,
   "id": "91732ef9",
   "metadata": {},
   "outputs": [
    {
     "data": {
      "text/plain": [
       "110"
      ]
     },
     "execution_count": 45,
     "metadata": {},
     "output_type": "execute_result"
    }
   ],
   "source": [
    "list_o_links = []\n",
    "for judge in doc.find_all('a', class_='colorbox-node colorbox-node-gallery init-colorbox-node-processed-processed'):\n",
    "    judge_dict = {}\n",
    "    judge_dict['name'] = judge.text\n",
    "    judge_dict['link'] = judge['href']\n",
    "    list_o_links.append(judge_dict)\n",
    "\n",
    "len(list_o_links)"
   ]
  },
  {
   "cell_type": "code",
   "execution_count": 46,
   "id": "2b5a7d7a",
   "metadata": {},
   "outputs": [
    {
     "data": {
      "text/plain": [
       "110"
      ]
     },
     "execution_count": 46,
     "metadata": {},
     "output_type": "execute_result"
    }
   ],
   "source": [
    "the_table = []\n",
    "for entry in list_o_links:\n",
    "    myhref = \"https://www.fjc.gov\"+entry['link']\n",
    "    driver.get(myhref)\n",
    "    doc = BeautifulSoup(driver.page_source)\n",
    "    each_judge = {}\n",
    "    for row in doc:\n",
    "        each_judge['name'] = doc.find_all('h1')[1].text\n",
    "    \n",
    "    doc_lines = doc.get_text().splitlines()\n",
    "    for line in doc_lines:\n",
    "        if re.search(r\"(?:Education[:])(.*)(?:Professional)\", line):\n",
    "            education_line = line\n",
    "            education_text = re.findall(r\"(?:Education[:] )(.*)(?:Professional)\",education_line,re.M)\n",
    "            education_text = education_text[0]\n",
    "            each_judge['school'] = education_text\n",
    "    \n",
    "    the_table.append(each_judge)\n",
    "\n",
    "len(the_table)"
   ]
  },
  {
   "cell_type": "code",
   "execution_count": 47,
   "id": "183d4ef6",
   "metadata": {},
   "outputs": [
    {
     "data": {
      "text/plain": [
       "110"
      ]
     },
     "execution_count": 47,
     "metadata": {},
     "output_type": "execute_result"
    }
   ],
   "source": [
    "circuit9_df = pd.DataFrame(the_table)\n",
    "len(circuit9_df)"
   ]
  },
  {
   "cell_type": "markdown",
   "id": "fdd17c5e",
   "metadata": {},
   "source": [
    "## Tenth Circuit"
   ]
  },
  {
   "cell_type": "code",
   "execution_count": 48,
   "id": "5ab3d5e7",
   "metadata": {},
   "outputs": [],
   "source": [
    "driver.get(\"https://www.fjc.gov/history/courts/u.s.-court-appeals-tenth-circuit-judges\")\n",
    "doc = BeautifulSoup(driver.page_source)"
   ]
  },
  {
   "cell_type": "code",
   "execution_count": 49,
   "id": "5cca0f26",
   "metadata": {},
   "outputs": [
    {
     "data": {
      "text/plain": [
       "46"
      ]
     },
     "execution_count": 49,
     "metadata": {},
     "output_type": "execute_result"
    }
   ],
   "source": [
    "list_o_links = []\n",
    "for judge in doc.find_all('a', class_='colorbox-node colorbox-node-gallery init-colorbox-node-processed-processed'):\n",
    "    judge_dict = {}\n",
    "    judge_dict['name'] = judge.text\n",
    "    judge_dict['link'] = judge['href']\n",
    "    list_o_links.append(judge_dict)\n",
    "\n",
    "len(list_o_links)"
   ]
  },
  {
   "cell_type": "code",
   "execution_count": 50,
   "id": "cfc9cb53",
   "metadata": {},
   "outputs": [
    {
     "data": {
      "text/plain": [
       "46"
      ]
     },
     "execution_count": 50,
     "metadata": {},
     "output_type": "execute_result"
    }
   ],
   "source": [
    "the_table = []\n",
    "for entry in list_o_links:\n",
    "    myhref = \"https://www.fjc.gov\"+entry['link']\n",
    "    driver.get(myhref)\n",
    "    doc = BeautifulSoup(driver.page_source)\n",
    "    each_judge = {}\n",
    "    for row in doc:\n",
    "        each_judge['name'] = doc.find_all('h1')[1].text\n",
    "    \n",
    "    doc_lines = doc.get_text().splitlines()\n",
    "    for line in doc_lines:\n",
    "        if re.search(r\"(?:Education[:])(.*)(?:Professional)\", line):\n",
    "            education_line = line\n",
    "            education_text = re.findall(r\"(?:Education[:] )(.*)(?:Professional)\",education_line,re.M)\n",
    "            education_text = education_text[0]\n",
    "            each_judge['school'] = education_text\n",
    "    \n",
    "    the_table.append(each_judge)\n",
    "\n",
    "len(the_table)"
   ]
  },
  {
   "cell_type": "code",
   "execution_count": 51,
   "id": "92aff39b",
   "metadata": {},
   "outputs": [
    {
     "data": {
      "text/plain": [
       "46"
      ]
     },
     "execution_count": 51,
     "metadata": {},
     "output_type": "execute_result"
    }
   ],
   "source": [
    "circuit10_df = pd.DataFrame(the_table)\n",
    "len(circuit10_df)"
   ]
  },
  {
   "cell_type": "markdown",
   "id": "206e4a03",
   "metadata": {},
   "source": [
    "## Eleventh Circuit"
   ]
  },
  {
   "cell_type": "code",
   "execution_count": 53,
   "id": "679160ea",
   "metadata": {},
   "outputs": [],
   "source": [
    "driver.get(\"https://www.fjc.gov/history/courts/u.s.-court-appeals-eleventh-circuit-judges\")\n",
    "doc = BeautifulSoup(driver.page_source)"
   ]
  },
  {
   "cell_type": "code",
   "execution_count": 54,
   "id": "f202b472",
   "metadata": {
    "scrolled": true
   },
   "outputs": [
    {
     "data": {
      "text/plain": [
       "40"
      ]
     },
     "execution_count": 54,
     "metadata": {},
     "output_type": "execute_result"
    }
   ],
   "source": [
    "list_o_links = []\n",
    "for judge in doc.find_all('a', class_='colorbox-node colorbox-node-gallery init-colorbox-node-processed-processed'):\n",
    "    judge_dict = {}\n",
    "    judge_dict['name'] = judge.text\n",
    "    judge_dict['link'] = judge['href']\n",
    "    list_o_links.append(judge_dict)\n",
    "\n",
    "len(list_o_links)"
   ]
  },
  {
   "cell_type": "code",
   "execution_count": 55,
   "id": "b5ff3a5c",
   "metadata": {},
   "outputs": [
    {
     "data": {
      "text/plain": [
       "40"
      ]
     },
     "execution_count": 55,
     "metadata": {},
     "output_type": "execute_result"
    }
   ],
   "source": [
    "the_table = []\n",
    "for entry in list_o_links:\n",
    "    myhref = \"https://www.fjc.gov\"+entry['link']\n",
    "    driver.get(myhref)\n",
    "    doc = BeautifulSoup(driver.page_source)\n",
    "    each_judge = {}\n",
    "    for row in doc:\n",
    "        each_judge['name'] = doc.find_all('h1')[1].text\n",
    "    \n",
    "    doc_lines = doc.get_text().splitlines()\n",
    "    for line in doc_lines:\n",
    "        if re.search(r\"(?:Education[:])(.*)(?:Professional)\", line):\n",
    "            education_line = line\n",
    "            education_text = re.findall(r\"(?:Education[:] )(.*)(?:Professional)\",education_line,re.M)\n",
    "            education_text = education_text[0]\n",
    "            each_judge['school'] = education_text\n",
    "    \n",
    "    the_table.append(each_judge)\n",
    "\n",
    "len(the_table)"
   ]
  },
  {
   "cell_type": "code",
   "execution_count": 56,
   "id": "ecc82173",
   "metadata": {},
   "outputs": [
    {
     "data": {
      "text/plain": [
       "40"
      ]
     },
     "execution_count": 56,
     "metadata": {},
     "output_type": "execute_result"
    }
   ],
   "source": [
    "circuit11_df = pd.DataFrame(the_table)\n",
    "len(circuit11_df)"
   ]
  },
  {
   "cell_type": "markdown",
   "id": "2e7142b0",
   "metadata": {},
   "source": [
    "## Federal Circuit"
   ]
  },
  {
   "cell_type": "code",
   "execution_count": 57,
   "id": "ddc3fc16",
   "metadata": {},
   "outputs": [],
   "source": [
    "driver.get(\"https://www.fjc.gov/history/courts/u.s.-court-appeals-federal-circuit-judges\")\n",
    "doc = BeautifulSoup(driver.page_source)"
   ]
  },
  {
   "cell_type": "code",
   "execution_count": 58,
   "id": "db142ac4",
   "metadata": {
    "scrolled": true
   },
   "outputs": [
    {
     "data": {
      "text/plain": [
       "39"
      ]
     },
     "execution_count": 58,
     "metadata": {},
     "output_type": "execute_result"
    }
   ],
   "source": [
    "list_o_links = []\n",
    "for judge in doc.find_all('a', class_='colorbox-node colorbox-node-gallery init-colorbox-node-processed-processed'):\n",
    "    judge_dict = {}\n",
    "    judge_dict['name'] = judge.text\n",
    "    judge_dict['link'] = judge['href']\n",
    "    list_o_links.append(judge_dict)\n",
    "\n",
    "len(list_o_links)"
   ]
  },
  {
   "cell_type": "code",
   "execution_count": 59,
   "id": "5bc2e583",
   "metadata": {},
   "outputs": [
    {
     "data": {
      "text/plain": [
       "39"
      ]
     },
     "execution_count": 59,
     "metadata": {},
     "output_type": "execute_result"
    }
   ],
   "source": [
    "the_table = []\n",
    "for entry in list_o_links:\n",
    "    myhref = \"https://www.fjc.gov\"+entry['link']\n",
    "    driver.get(myhref)\n",
    "    doc = BeautifulSoup(driver.page_source)\n",
    "    each_judge = {}\n",
    "    for row in doc:\n",
    "        each_judge['name'] = doc.find_all('h1')[1].text\n",
    "    \n",
    "    doc_lines = doc.get_text().splitlines()\n",
    "    for line in doc_lines:\n",
    "        if re.search(r\"(?:Education[:])(.*)(?:Professional)\", line):\n",
    "            education_line = line\n",
    "            education_text = re.findall(r\"(?:Education[:] )(.*)(?:Professional)\",education_line,re.M)\n",
    "            education_text = education_text[0]\n",
    "            each_judge['school'] = education_text\n",
    "    \n",
    "    the_table.append(each_judge)\n",
    "\n",
    "len(the_table)"
   ]
  },
  {
   "cell_type": "code",
   "execution_count": 60,
   "id": "84791cda",
   "metadata": {},
   "outputs": [
    {
     "data": {
      "text/plain": [
       "39"
      ]
     },
     "execution_count": 60,
     "metadata": {},
     "output_type": "execute_result"
    }
   ],
   "source": [
    "federal_df = pd.DataFrame(the_table)\n",
    "len(federal_df)"
   ]
  },
  {
   "cell_type": "markdown",
   "id": "3ebdca04",
   "metadata": {},
   "source": [
    "## Combining dataframes"
   ]
  },
  {
   "cell_type": "code",
   "execution_count": 61,
   "id": "1d0213cf",
   "metadata": {},
   "outputs": [],
   "source": [
    "# Create column in each dataframe with the name of the circuit\n",
    "circuit1_df['circuit'] = 'First'\n",
    "circuit2_df['circuit'] = 'Second'\n",
    "circuit3_df['circuit'] = 'Third'\n",
    "circuit4_df['circuit'] = 'Fourth'\n",
    "circuit5_df['circuit'] = 'Fifth'\n",
    "circuit6_df['circuit'] = 'Sixth'\n",
    "circuit7_df['circuit'] = 'Seventh'\n",
    "circuit8_df['circuit'] = 'Eighth'\n",
    "circuit9_df['circuit'] = 'Ninth'\n",
    "circuit10_df['circuit'] = 'Tenth'\n",
    "circuit11_df['circuit'] = 'Eleventh'\n",
    "district_df['circuit'] = 'District of Columbia'\n",
    "federal_df['circuit'] = 'Federal'"
   ]
  },
  {
   "cell_type": "code",
   "execution_count": 62,
   "id": "682af9ae",
   "metadata": {},
   "outputs": [
    {
     "data": {
      "text/plain": [
       "828"
      ]
     },
     "execution_count": 62,
     "metadata": {},
     "output_type": "execute_result"
    }
   ],
   "source": [
    "df_list = [circuit1_df, circuit2_df, circuit3_df, circuit4_df, circuit5_df, circuit6_df, circuit7_df, circuit8_df,\n",
    "         circuit9_df, circuit10_df, circuit11_df, district_df, federal_df]\n",
    "\n",
    "final_df = pd.concat(df_list)\n",
    "len(final_df)"
   ]
  },
  {
   "cell_type": "code",
   "execution_count": 63,
   "id": "1d7ae2fe",
   "metadata": {},
   "outputs": [
    {
     "data": {
      "text/html": [
       "<div>\n",
       "<style scoped>\n",
       "    .dataframe tbody tr th:only-of-type {\n",
       "        vertical-align: middle;\n",
       "    }\n",
       "\n",
       "    .dataframe tbody tr th {\n",
       "        vertical-align: top;\n",
       "    }\n",
       "\n",
       "    .dataframe thead th {\n",
       "        text-align: right;\n",
       "    }\n",
       "</style>\n",
       "<table border=\"1\" class=\"dataframe\">\n",
       "  <thead>\n",
       "    <tr style=\"text-align: right;\">\n",
       "      <th></th>\n",
       "      <th>name</th>\n",
       "      <th>school</th>\n",
       "      <th>circuit</th>\n",
       "    </tr>\n",
       "  </thead>\n",
       "  <tbody>\n",
       "    <tr>\n",
       "      <th>0</th>\n",
       "      <td>Colt, LeBaron Bradford</td>\n",
       "      <td>Yale College, A.B., 1868Columbia Law School, L...</td>\n",
       "      <td>First</td>\n",
       "    </tr>\n",
       "    <tr>\n",
       "      <th>1</th>\n",
       "      <td>Putnam, William LeBaron</td>\n",
       "      <td>Bowdoin College, A.B., 1855Read law, 1858</td>\n",
       "      <td>First</td>\n",
       "    </tr>\n",
       "    <tr>\n",
       "      <th>2</th>\n",
       "      <td>Lowell, Francis Cabot</td>\n",
       "      <td>Harvard University, A.B., 1876Harvard Law Scho...</td>\n",
       "      <td>First</td>\n",
       "    </tr>\n",
       "    <tr>\n",
       "      <th>3</th>\n",
       "      <td>Schofield, William</td>\n",
       "      <td>Harvard Law School, LL.B., 1883</td>\n",
       "      <td>First</td>\n",
       "    </tr>\n",
       "    <tr>\n",
       "      <th>4</th>\n",
       "      <td>Dodge, Frederic</td>\n",
       "      <td>Harvard College, B.A., 1867Harvard Law School,...</td>\n",
       "      <td>First</td>\n",
       "    </tr>\n",
       "  </tbody>\n",
       "</table>\n",
       "</div>"
      ],
      "text/plain": [
       "                      name                                             school  \\\n",
       "0   Colt, LeBaron Bradford  Yale College, A.B., 1868Columbia Law School, L...   \n",
       "1  Putnam, William LeBaron          Bowdoin College, A.B., 1855Read law, 1858   \n",
       "2    Lowell, Francis Cabot  Harvard University, A.B., 1876Harvard Law Scho...   \n",
       "3       Schofield, William                    Harvard Law School, LL.B., 1883   \n",
       "4          Dodge, Frederic  Harvard College, B.A., 1867Harvard Law School,...   \n",
       "\n",
       "  circuit  \n",
       "0   First  \n",
       "1   First  \n",
       "2   First  \n",
       "3   First  \n",
       "4   First  "
      ]
     },
     "execution_count": 63,
     "metadata": {},
     "output_type": "execute_result"
    }
   ],
   "source": [
    "final_df.head()"
   ]
  },
  {
   "cell_type": "code",
   "execution_count": 64,
   "id": "c3e5d55b",
   "metadata": {},
   "outputs": [],
   "source": [
    "final_df.to_csv('01-scrape.csv', index=False)"
   ]
  }
 ],
 "metadata": {
  "kernelspec": {
   "display_name": "Python 3 (ipykernel)",
   "language": "python",
   "name": "python3"
  },
  "language_info": {
   "codemirror_mode": {
    "name": "ipython",
    "version": 3
   },
   "file_extension": ".py",
   "mimetype": "text/x-python",
   "name": "python",
   "nbconvert_exporter": "python",
   "pygments_lexer": "ipython3",
   "version": "3.9.7"
  }
 },
 "nbformat": 4,
 "nbformat_minor": 5
}
